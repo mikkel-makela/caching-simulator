{
 "cells": [
  {
   "cell_type": "markdown",
   "metadata": {
    "collapsed": true,
    "pycharm": {
     "name": "#%% md\n"
    }
   },
   "source": [
    "## Loading data and initializing parameters"
   ]
  },
  {
   "cell_type": "code",
   "execution_count": 1,
   "outputs": [],
   "source": [
    "from policies.network_policies.decentralized.network_adaptive_ftpl import NetworkAdaptiveFTPL\n",
    "from policies.network_policies.decentralized.network_ftpl import NetworkFTPL\n",
    "from policies.network_policies.decentralized.network_lfu import NetworkLFU\n",
    "from policies.network_policies.decentralized.network_lru import NetworkLRU\n",
    "\n",
    "import numpy as np\n",
    "\n",
    "from utilities import display_single_level_statistics\n",
    "from simulation.simulation_parameters import SimulationParameters\n",
    "from simulation.simulation_statistics import SimulationStatistics\n",
    "from simulation.simulation_runner import SimulationRunner\n",
    "from policies.ftpl_policy import FTPLPolicy\n",
    "from policies.lfu_policy import LFUPolicy\n",
    "from policies.lru_policy import LRUPolicy\n",
    "from policies.policy import Policy\n",
    "from typing import List\n",
    "from data.path import DataPath\n",
    "from utilities import display_multi_level_statistics\n",
    "from data.loaders import Dataset, load_bipartite_traces\n",
    "from data.loaders import load_online_cache_trace\n",
    "from data.loaders import load_movielens\n",
    "from factories.cache_factory import get_client_cache_connections\n",
    "\n"
   ],
   "metadata": {
    "collapsed": false,
    "pycharm": {
     "name": "#%%\n"
    }
   }
  },
  {
   "cell_type": "markdown",
   "source": [
    "## Defining single cache simulations"
   ],
   "metadata": {
    "collapsed": false,
    "pycharm": {
     "name": "#%% md\n"
    }
   }
  },
  {
   "cell_type": "code",
   "execution_count": 2,
   "outputs": [],
   "source": [
    "from factories.cache_factory import get_expert_iawm_policy\n",
    "\n",
    "\n",
    "def run_single_cache_simulation(ds: Dataset, cache_size: int):\n",
    "    policies: List[Policy] = [\n",
    "        LRUPolicy(cache_size),\n",
    "        LFUPolicy(cache_size),\n",
    "        FTPLPolicy(cache_size, ds.catalog_size, ds.trace.size, discount_rate=1),\n",
    "        get_expert_iawm_policy(cache_size, ds.catalog_size, ds.trace.size, discount_rates=list(np.arange(0, 1.5, 0.01))),\n",
    "    ]\n",
    "\n",
    "    runner = SimulationRunner(threads=len(policies))\n",
    "    parameters = SimulationParameters(ds.trace, policies)\n",
    "    statistics: List[SimulationStatistics] = runner.run_simulations(parameters)\n",
    "    display_single_level_statistics(statistics)"
   ],
   "metadata": {
    "collapsed": false,
    "pycharm": {
     "name": "#%%\n"
    }
   }
  },
  {
   "cell_type": "markdown",
   "source": [
    "## Define bipartite simulation"
   ],
   "metadata": {
    "collapsed": false,
    "pycharm": {
     "name": "#%% md\n"
    }
   }
  },
  {
   "cell_type": "code",
   "execution_count": 3,
   "outputs": [],
   "source": [
    "from policies.network_policies.network_policy import NetworkPolicy\n",
    "from data.loaders import BiPartiteDataset\n",
    "\n",
    "\n",
    "def run_multi_cache_simulation(\n",
    "        policies: List[NetworkPolicy],\n",
    "        data: BiPartiteDataset\n",
    "):\n",
    "    runner = SimulationRunner(threads=min([len(policies), 10]))\n",
    "    statistics = runner.run_bipartite_simulations(policies, data)\n",
    "    display_multi_level_statistics(statistics)"
   ],
   "metadata": {
    "collapsed": false,
    "pycharm": {
     "name": "#%%\n"
    }
   }
  },
  {
   "cell_type": "markdown",
   "source": [
    "## Run single cache simulation"
   ],
   "metadata": {
    "collapsed": false,
    "pycharm": {
     "name": "#%% md\n"
    }
   }
  },
  {
   "cell_type": "code",
   "execution_count": 4,
   "outputs": [],
   "source": [
    "single_cache_size = 50\n",
    "datasets: List[Dataset] = [\n",
    "    load_movielens(DataPath.MOVIE_LENS, catalog_size=single_cache_size * 100, trace_length=100_000),\n",
    "    load_online_cache_trace(DataPath.OSCILLATOR),\n",
    "    load_online_cache_trace(DataPath.CHANGING_OSCILLATOR),\n",
    "    load_online_cache_trace(DataPath.CHANGING_POPULARITY_CATALOG),\n",
    "    load_online_cache_trace(DataPath.PSN_CATALOG),\n",
    "    load_online_cache_trace(DataPath.FIXED_POPULARITY_CATALOG),\n",
    "    load_online_cache_trace(DataPath.SN_OSCILLATOR)\n",
    "]\n",
    "\n",
    "for dataset in datasets:\n",
    "    print(\n",
    "        f'=========== '\n",
    "        f'{dataset.name.split(\"/\")[-1].split(\".\")[0]},'\n",
    "        f' cache at {round(100 * single_cache_size / dataset.catalog_size, 1)}%'\n",
    "        f' ==========='\n",
    "    )\n",
    "    run_single_cache_simulation(dataset, single_cache_size)"
   ],
   "metadata": {
    "collapsed": false,
    "pycharm": {
     "name": "#%%\n"
    }
   }
  },
  {
   "cell_type": "markdown",
   "source": [
    "## Load BiPartite data"
   ],
   "metadata": {
    "collapsed": false,
    "pycharm": {
     "name": "#%% md\n"
    }
   }
  },
  {
   "cell_type": "code",
   "execution_count": 5,
   "outputs": [],
   "source": [
    "data = load_bipartite_traces() #  T=1500, cat=50"
   ],
   "metadata": {
    "collapsed": false,
    "pycharm": {
     "name": "#%%\n"
    }
   }
  },
  {
   "cell_type": "markdown",
   "source": [
    "## Run bipartite simulation"
   ],
   "metadata": {
    "collapsed": false,
    "pycharm": {
     "name": "#%% md\n"
    }
   }
  },
  {
   "cell_type": "code",
   "execution_count": 9,
   "outputs": [
    {
     "data": {
      "text/plain": "<Figure size 432x288 with 1 Axes>",
      "image/png": "[encoded data removed]"
     },
     "metadata": {
      "needs_background": "light"
     },
     "output_type": "display_data"
    }
   ],
   "source": [
    "cache_size = 5\n",
    "clients = len(data.traces)\n",
    "caches = 4\n",
    "d_regular_degree = 2\n",
    "random_connections = get_client_cache_connections(clients, caches, d_regular_degree)\n",
    "optimal_connections = [\n",
    "    [0],\n",
    "    [0],\n",
    "    [1],\n",
    "    [1],\n",
    "    [2, 3],\n",
    "    [2, 3]\n",
    "]\n",
    "adversarial_connections = [\n",
    "    [0, 3],\n",
    "    [1, 2],\n",
    "    [1],\n",
    "    [3],\n",
    "    [2],\n",
    "    [0]\n",
    "]\n",
    "time_horizon = data.traces[0].size\n",
    "network_caches = [\n",
    "    NetworkLFU(\n",
    "        caches,\n",
    "        adversarial_connections,\n",
    "        data.catalog_size,\n",
    "        cache_size\n",
    "    ),\n",
    "    NetworkLRU(\n",
    "        caches,\n",
    "        adversarial_connections,\n",
    "        data.catalog_size,\n",
    "        cache_size\n",
    "    ),\n",
    "    NetworkAdaptiveFTPL(\n",
    "        caches,\n",
    "        adversarial_connections,\n",
    "        data.catalog_size,\n",
    "        cache_size,\n",
    "        list(np.arange(0.5, 1.01, 0.001)),\n",
    "        time_horizon\n",
    "    ),\n",
    "    NetworkFTPL(\n",
    "        caches,\n",
    "        adversarial_connections,\n",
    "        data.catalog_size,\n",
    "        cache_size,\n",
    "        time_horizon\n",
    "    )\n",
    "]\n",
    "\n",
    "run_multi_cache_simulation(network_caches, data)"
   ],
   "metadata": {
    "collapsed": false,
    "pycharm": {
     "name": "#%%\n"
    }
   }
  }
 ],
 "metadata": {
  "kernelspec": {
   "display_name": "Python 3",
   "language": "python",
   "name": "python3"
  },
  "language_info": {
   "codemirror_mode": {
    "name": "ipython",
    "version": 2
   },
   "file_extension": ".py",
   "mimetype": "text/x-python",
   "name": "python",
   "nbconvert_exporter": "python",
   "pygments_lexer": "ipython2",
   "version": "2.7.6"
  }
 },
 "nbformat": 4,
 "nbformat_minor": 0
}