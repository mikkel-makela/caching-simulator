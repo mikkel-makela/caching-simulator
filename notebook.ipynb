{
 "cells": [
  {
   "cell_type": "markdown",
   "metadata": {
    "collapsed": true,
    "pycharm": {
     "name": "#%% md\n"
    }
   },
   "source": [
    "## Loading data and initializing parameters"
   ]
  },
  {
   "cell_type": "code",
   "execution_count": 4,
   "outputs": [],
   "source": [
    "import random\n",
    "from utilities import display_single_level_statistics\n",
    "from simulation.simulation_parameters import SimulationParameters\n",
    "from simulation.simulation_statistics import SimulationStatistics\n",
    "from simulation.simulation_runner import SimulationRunner\n",
    "from policies.ftrl_policy import FTRLPolicy\n",
    "from policies.lfu_policy import LFUPolicy\n",
    "from policies.lru_policy import LRUPolicy\n",
    "from policies.policy import Policy\n",
    "from typing import List\n",
    "from data.path import DataPath\n",
    "from data.loaders import load_movielens\n",
    "from utilities import display_multi_level_statistics\n",
    "from factories.cache_factory import get_bipartite_systems_from_datasets\n",
    "from data.loaders import load_bipartite_movielens\n",
    "\n",
    "\n",
    "random.seed(42)"
   ],
   "metadata": {
    "collapsed": false,
    "pycharm": {
     "name": "#%%\n"
    }
   }
  },
  {
   "cell_type": "markdown",
   "source": [
    "## Defining single cache simulations"
   ],
   "metadata": {
    "collapsed": false,
    "pycharm": {
     "name": "#%% md\n"
    }
   }
  },
  {
   "cell_type": "code",
   "execution_count": 5,
   "outputs": [],
   "source": [
    "def run_single_cache_simulation():\n",
    "    dataset = load_movielens(DataPath.MOVIE_LENS)\n",
    "    cache_size = 50\n",
    "    policies: List[Policy] = [\n",
    "        LRUPolicy(cache_size),\n",
    "        LFUPolicy(cache_size),\n",
    "        FTRLPolicy(cache_size, dataset.catalog_size, dataset.trace.size),\n",
    "    ]\n",
    "\n",
    "    runner = SimulationRunner(threads=len(policies))\n",
    "    parameters = SimulationParameters(dataset.trace, policies)\n",
    "    statistics: List[SimulationStatistics] = runner.run_simulations(parameters)\n",
    "    display_single_level_statistics(statistics)"
   ],
   "metadata": {
    "collapsed": false,
    "pycharm": {
     "name": "#%%\n"
    }
   }
  },
  {
   "cell_type": "markdown",
   "source": [
    "## Define bipartite simulation"
   ],
   "metadata": {
    "collapsed": false,
    "pycharm": {
     "name": "#%% md\n"
    }
   }
  },
  {
   "cell_type": "code",
   "execution_count": 6,
   "outputs": [],
   "source": [
    "def run_multi_cache_simulation():\n",
    "    datasets = load_bipartite_movielens(DataPath.MOVIE_LENS)\n",
    "    cache_size = 50\n",
    "    d_regular_degree = 2\n",
    "    cache_count = 6\n",
    "    systems = get_bipartite_systems_from_datasets(datasets, cache_size, d_regular_degree, cache_count)\n",
    "    runner = SimulationRunner(threads=min([len(systems), 10]))\n",
    "    statistics = runner.run_bipartite_simulations(systems, datasets)\n",
    "    display_multi_level_statistics(statistics)"
   ],
   "metadata": {
    "collapsed": false,
    "pycharm": {
     "name": "#%%\n"
    }
   }
  },
  {
   "cell_type": "markdown",
   "source": [
    "## Run simulation"
   ],
   "metadata": {
    "collapsed": false,
    "pycharm": {
     "name": "#%% md\n"
    }
   }
  },
  {
   "cell_type": "code",
   "execution_count": 7,
   "outputs": [
    {
     "name": "stdout",
     "output_type": "stream",
     "text": [
      "=================== LFU ===================\n",
      "System-wide cost: 5578561\n",
      "Hit Ratio Per Cache\n",
      "===================\n",
      "Main Storage, Level 0: 1.0\n",
      "LFU, Level 1: 0.07\n",
      "LFU, Level 1: 0.06\n",
      "LFU, Level 1: 0.06\n",
      "LFU, Level 1: 0.06\n",
      "LFU, Level 1: 0.07\n",
      "LFU, Level 1: 0.06\n",
      "=================== LRU ===================\n",
      "System-wide cost: 5592008\n",
      "Hit Ratio Per Cache\n",
      "===================\n",
      "Main Storage, Level 0: 1.0\n",
      "LRU, Level 1: 0.06\n",
      "LRU, Level 1: 0.07\n",
      "LRU, Level 1: 0.07\n",
      "LRU, Level 1: 0.06\n",
      "LRU, Level 1: 0.07\n",
      "LRU, Level 1: 0.06\n",
      "=================== FTRL ===================\n",
      "System-wide cost: 5289609\n",
      "Hit Ratio Per Cache\n",
      "===================\n",
      "Main Storage, Level 0: 1.0\n",
      "FTRL, Level 1: 0.1\n",
      "FTRL, Level 1: 0.09\n",
      "FTRL, Level 1: 0.09\n",
      "FTRL, Level 1: 0.09\n",
      "FTRL, Level 1: 0.1\n",
      "FTRL, Level 1: 0.09\n"
     ]
    },
    {
     "data": {
      "text/plain": "<Figure size 432x288 with 1 Axes>",
      "image/png": "[encoded data removed]"
     },
     "metadata": {
      "needs_background": "light"
     },
     "output_type": "display_data"
    }
   ],
   "source": [
    "is_bipartite_simulation = True\n",
    "if is_bipartite_simulation:\n",
    "    run_multi_cache_simulation()\n",
    "else:\n",
    "    run_single_cache_simulation()"
   ],
   "metadata": {
    "collapsed": false,
    "pycharm": {
     "name": "#%%\n"
    }
   }
  }
 ],
 "metadata": {
  "kernelspec": {
   "display_name": "Python 3",
   "language": "python",
   "name": "python3"
  },
  "language_info": {
   "codemirror_mode": {
    "name": "ipython",
    "version": 2
   },
   "file_extension": ".py",
   "mimetype": "text/x-python",
   "name": "python",
   "nbconvert_exporter": "python",
   "pygments_lexer": "ipython2",
   "version": "2.7.6"
  }
 },
 "nbformat": 4,
 "nbformat_minor": 0
}